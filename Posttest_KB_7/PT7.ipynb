{
  "nbformat": 4,
  "nbformat_minor": 0,
  "metadata": {
    "colab": {
      "provenance": [],
      "collapsed_sections": []
    },
    "kernelspec": {
      "name": "python3",
      "display_name": "Python 3"
    },
    "language_info": {
      "name": "python"
    }
  },
  "cells": [
    {
      "cell_type": "markdown",
      "source": [
        "## **Muhammad Daffa Putra Mahardika**\n",
        "## **2009106036**\n",
        "## **Posttest 7**"
      ],
      "metadata": {
        "id": "aXQN1gmiA0QW"
      }
    },
    {
      "cell_type": "code",
      "execution_count": 1,
      "metadata": {
        "id": "BJ9Qs4uYcQE4"
      },
      "outputs": [],
      "source": [
        "import tensorflow as tf"
      ]
    },
    {
      "cell_type": "markdown",
      "source": [
        "# 1) Buatlah sebuah tensor dengan shape(5,5) dengan nilai random yang disimpan dalam variable random_tensor"
      ],
      "metadata": {
        "id": "u-fuPjAc_TsN"
      }
    },
    {
      "cell_type": "code",
      "source": [
        "# Tensor (5,5) nilai Random\n",
        "random_tensor = tf.Variable(tf.random.normal([5,5], mean=5, stddev=1, dtype=tf.float32, seed=30))\n",
        "random_tensor.read_value().numpy()"
      ],
      "metadata": {
        "id": "jdgh-MREcYSt",
        "colab": {
          "base_uri": "https://localhost:8080/"
        },
        "outputId": "3fdfa586-19f8-4165-90ec-361e05eb231e"
      },
      "execution_count": 3,
      "outputs": [
        {
          "output_type": "execute_result",
          "data": {
            "text/plain": [
              "array([[4.613833 , 5.084854 , 2.2378907, 4.858652 , 5.7292266],\n",
              "       [4.025921 , 4.714781 , 5.1130815, 5.4879904, 5.9685326],\n",
              "       [5.573825 , 3.2475438, 4.462555 , 4.476487 , 4.070874 ],\n",
              "       [4.894192 , 4.009323 , 4.6798654, 4.883642 , 4.827503 ],\n",
              "       [5.1000853, 5.704425 , 5.6030755, 4.4744415, 5.4573894]],\n",
              "      dtype=float32)"
            ]
          },
          "metadata": {},
          "execution_count": 3
        }
      ]
    },
    {
      "cell_type": "markdown",
      "source": [
        "# 2) Buatlah sebuah tensor dengan shape(5,5) dari sebuah list dengan nilai bilangan prima dalam variable prime_tensor"
      ],
      "metadata": {
        "id": "2yI3uHdm8kO_"
      }
    },
    {
      "cell_type": "code",
      "source": [
        "# Tensor (5,5) nilai bilangan Prima\n",
        "list = [[2,3,5,7,11],[13,17,19,23,29],[31,37,41,43,47],[53,59,61,67,71],[73,79,83,89,97]]"
      ],
      "metadata": {
        "id": "Uy_eQktNjw4H"
      },
      "execution_count": 4,
      "outputs": []
    },
    {
      "cell_type": "code",
      "source": [
        "prime_tensor = tf.Variable((tf.convert_to_tensor(list, dtype=tf.float32)))\n",
        "prime_tensor.read_value().numpy()"
      ],
      "metadata": {
        "id": "r-5Clt__j1L-",
        "colab": {
          "base_uri": "https://localhost:8080/"
        },
        "outputId": "0f68c092-d2cb-4132-f7b2-9044da1b1903"
      },
      "execution_count": 5,
      "outputs": [
        {
          "output_type": "execute_result",
          "data": {
            "text/plain": [
              "array([[ 2.,  3.,  5.,  7., 11.],\n",
              "       [13., 17., 19., 23., 29.],\n",
              "       [31., 37., 41., 43., 47.],\n",
              "       [53., 59., 61., 67., 71.],\n",
              "       [73., 79., 83., 89., 97.]], dtype=float32)"
            ]
          },
          "metadata": {},
          "execution_count": 5
        }
      ]
    },
    {
      "cell_type": "markdown",
      "source": [
        "# 3) Tampilkan dimensi dari kedua variable tersebut"
      ],
      "metadata": {
        "id": "4Dzc00qQ8zL-"
      }
    },
    {
      "cell_type": "code",
      "source": [
        "# Dimensi kedua Variabel\n",
        "print(random_tensor.shape)\n",
        "print(prime_tensor.shape)"
      ],
      "metadata": {
        "colab": {
          "base_uri": "https://localhost:8080/"
        },
        "id": "DgULTHY98vIA",
        "outputId": "92c6c1a7-2c40-4995-b346-fd7282148586"
      },
      "execution_count": 6,
      "outputs": [
        {
          "output_type": "stream",
          "name": "stdout",
          "text": [
            "(5, 5)\n",
            "(5, 5)\n"
          ]
        }
      ]
    },
    {
      "cell_type": "markdown",
      "source": [
        "# 4) Tampilkan hasil dari perhitungan aritmetika 2 variable tersebut (Gunakan minimal 5 operator)"
      ],
      "metadata": {
        "id": "KJ1B5-bf9Iv8"
      }
    },
    {
      "cell_type": "code",
      "source": [
        "# Operator Pertambahan\n",
        "tf.add(random_tensor,prime_tensor).numpy()"
      ],
      "metadata": {
        "colab": {
          "base_uri": "https://localhost:8080/"
        },
        "id": "5vcirp7-8-Tb",
        "outputId": "ff2ed863-6198-4581-a6e1-00506f6593b1"
      },
      "execution_count": 7,
      "outputs": [
        {
          "output_type": "execute_result",
          "data": {
            "text/plain": [
              "array([[  6.613833 ,   8.084854 ,   7.2378907,  11.858652 ,  16.729227 ],\n",
              "       [ 17.02592  ,  21.71478  ,  24.113081 ,  28.487991 ,  34.968533 ],\n",
              "       [ 36.573826 ,  40.247543 ,  45.462555 ,  47.476486 ,  51.070873 ],\n",
              "       [ 57.89419  ,  63.009323 ,  65.67986  ,  71.883644 ,  75.8275   ],\n",
              "       [ 78.10008  ,  84.70442  ,  88.60307  ,  93.47444  , 102.45739  ]],\n",
              "      dtype=float32)"
            ]
          },
          "metadata": {},
          "execution_count": 7
        }
      ]
    },
    {
      "cell_type": "code",
      "source": [
        "# Operator Pengurangan\n",
        "tf.subtract(random_tensor,prime_tensor).numpy()"
      ],
      "metadata": {
        "colab": {
          "base_uri": "https://localhost:8080/"
        },
        "id": "c8STx1KI9SZ7",
        "outputId": "147b730f-d0cf-4c85-829e-9611ff897c44"
      },
      "execution_count": 8,
      "outputs": [
        {
          "output_type": "execute_result",
          "data": {
            "text/plain": [
              "array([[  2.613833 ,   2.0848541,  -2.7621093,  -2.141348 ,  -5.2707734],\n",
              "       [ -8.974079 , -12.285219 , -13.886919 , -17.512009 , -23.031467 ],\n",
              "       [-25.426174 , -33.752457 , -36.537445 , -38.523514 , -42.929127 ],\n",
              "       [-48.10581  , -54.990677 , -56.320133 , -62.116356 , -66.1725   ],\n",
              "       [-67.89992  , -73.29558  , -77.39693  , -84.52556  , -91.54261  ]],\n",
              "      dtype=float32)"
            ]
          },
          "metadata": {},
          "execution_count": 8
        }
      ]
    },
    {
      "cell_type": "code",
      "source": [
        "# Operator Perkalian\n",
        "tf.multiply(random_tensor,prime_tensor).numpy()"
      ],
      "metadata": {
        "colab": {
          "base_uri": "https://localhost:8080/"
        },
        "id": "JiPKDqoF9Vle",
        "outputId": "a06d52b8-ea76-4829-c3f4-c72d95f85e88"
      },
      "execution_count": 9,
      "outputs": [
        {
          "output_type": "execute_result",
          "data": {
            "text/plain": [
              "array([[  9.227666,  15.254562,  11.189453,  34.010567,  63.021492],\n",
              "       [ 52.33697 ,  80.151276,  97.148544, 126.22378 , 173.08745 ],\n",
              "       [172.78857 , 120.15912 , 182.96475 , 192.48895 , 191.33109 ],\n",
              "       [259.39218 , 236.55006 , 285.4718  , 327.20404 , 342.75272 ],\n",
              "       [372.3062  , 450.64957 , 465.05527 , 398.22528 , 529.36676 ]],\n",
              "      dtype=float32)"
            ]
          },
          "metadata": {},
          "execution_count": 9
        }
      ]
    },
    {
      "cell_type": "code",
      "source": [
        "# Operator Pembagian\n",
        "tf.divide(random_tensor,prime_tensor).numpy()"
      ],
      "metadata": {
        "colab": {
          "base_uri": "https://localhost:8080/"
        },
        "id": "_Uo56lQ-9Zz7",
        "outputId": "aa7691f3-f670-4e91-b8e4-f3f902362167"
      },
      "execution_count": 10,
      "outputs": [
        {
          "output_type": "execute_result",
          "data": {
            "text/plain": [
              "array([[2.3069165 , 1.6949514 , 0.44757813, 0.69409317, 0.5208388 ],\n",
              "       [0.3096862 , 0.27734005, 0.26910955, 0.23860827, 0.20581147],\n",
              "       [0.17980081, 0.08777145, 0.10884281, 0.10410435, 0.08661435],\n",
              "       [0.09234325, 0.06795463, 0.07671911, 0.07289018, 0.067993  ],\n",
              "       [0.06986418, 0.07220791, 0.06750693, 0.05027463, 0.05626174]],\n",
              "      dtype=float32)"
            ]
          },
          "metadata": {},
          "execution_count": 10
        }
      ]
    },
    {
      "cell_type": "code",
      "source": [
        "# Operator Pemangkatan\n",
        "tf.pow(random_tensor,prime_tensor).numpy()"
      ],
      "metadata": {
        "colab": {
          "base_uri": "https://localhost:8080/"
        },
        "id": "VpDQw55A9fiO",
        "outputId": "f3ac1a51-35e3-4192-a1c3-df984455654e"
      },
      "execution_count": 11,
      "outputs": [
        {
          "output_type": "execute_result",
          "data": {
            "text/plain": [
              "array([[2.1287455e+01, 1.3147267e+02, 5.6129913e+01, 6.3916152e+04,\n",
              "        2.1830114e+08],\n",
              "       [7.2987424e+07, 2.8109013e+11, 2.9172357e+13, 1.0150953e+17,\n",
              "        3.1634389e+22],\n",
              "       [1.3513035e+23, 8.4632214e+18, 4.2946381e+26, 9.7792548e+27,\n",
              "        4.5219016e+28],\n",
              "       [3.5735032e+36, 3.8123471e+35,           inf,           inf,\n",
              "                  inf],\n",
              "       [          inf,           inf,           inf,           inf,\n",
              "                  inf]], dtype=float32)"
            ]
          },
          "metadata": {},
          "execution_count": 11
        }
      ]
    },
    {
      "cell_type": "markdown",
      "source": [
        "## 5) Tampilkan nilai maksimal dan minimal dari variable random_tensor"
      ],
      "metadata": {
        "id": "2Cbrr7vP9lPl"
      }
    },
    {
      "cell_type": "code",
      "source": [
        "tf.argmax(random_tensor, axis=0).numpy()"
      ],
      "metadata": {
        "colab": {
          "base_uri": "https://localhost:8080/"
        },
        "id": "HIqYlse59h2S",
        "outputId": "08e2c143-97ff-44ea-9a95-5f25991200ef"
      },
      "execution_count": 12,
      "outputs": [
        {
          "output_type": "execute_result",
          "data": {
            "text/plain": [
              "array([2, 4, 4, 1, 1])"
            ]
          },
          "metadata": {},
          "execution_count": 12
        }
      ]
    },
    {
      "cell_type": "code",
      "source": [
        "tf.argmin(random_tensor, axis=0).numpy()"
      ],
      "metadata": {
        "colab": {
          "base_uri": "https://localhost:8080/"
        },
        "id": "ltPkPxfZ9n1-",
        "outputId": "d6b8c778-b907-4c86-b9b6-e5cc6212cf12"
      },
      "execution_count": 13,
      "outputs": [
        {
          "output_type": "execute_result",
          "data": {
            "text/plain": [
              "array([1, 2, 0, 4, 2])"
            ]
          },
          "metadata": {},
          "execution_count": 13
        }
      ]
    },
    {
      "cell_type": "markdown",
      "source": [
        "## 6) Tampilkan hasil dari penggabungan variable random_tensor dengan prime_tensor (concatenation)"
      ],
      "metadata": {
        "id": "yvug57Ho-zLE"
      }
    },
    {
      "cell_type": "code",
      "source": [
        "# Sebelum\n",
        "print(f\"Size Awal : {random_tensor.shape} {prime_tensor.shape}\" )"
      ],
      "metadata": {
        "colab": {
          "base_uri": "https://localhost:8080/"
        },
        "id": "SErJeQXk9qSk",
        "outputId": "61272f5b-3061-410b-825c-231667d30f19"
      },
      "execution_count": 18,
      "outputs": [
        {
          "output_type": "stream",
          "name": "stdout",
          "text": [
            "Size Awal : (5, 5) (5, 5)\n"
          ]
        }
      ]
    },
    {
      "cell_type": "code",
      "source": [
        "# Setelah\n",
        "concat_tensor_1 = tf.concat([random_tensor, prime_tensor], axis=0)\n",
        "concat_tensor_2 = tf.concat([random_tensor, prime_tensor], axis=1)\n",
        "print(f\"Size yang sudah di concat (axis = 0) : {concat_tensor_1.shape}\")\n",
        "print(f\"Size yang sudah di concat (axis = 1) : {concat_tensor_2.shape}\")"
      ],
      "metadata": {
        "colab": {
          "base_uri": "https://localhost:8080/"
        },
        "id": "uoQwQp_a9uRG",
        "outputId": "c551efb7-4a5f-435d-bdd2-ef8147ba4946"
      },
      "execution_count": 19,
      "outputs": [
        {
          "output_type": "stream",
          "name": "stdout",
          "text": [
            "Size yang sudah di concat (axis = 0) : (10, 5)\n",
            "Size yang sudah di concat (axis = 1) : (5, 10)\n"
          ]
        }
      ]
    },
    {
      "cell_type": "markdown",
      "source": [
        "## 7) Tampilkan hasil sorting dari kedua variable di atas. (descending)"
      ],
      "metadata": {
        "id": "DaeB3uP4_CUZ"
      }
    },
    {
      "cell_type": "code",
      "source": [
        "# Sorting random_tensor secara descending\n",
        "tf.sort(random_tensor, direction=\"DESCENDING\").numpy()"
      ],
      "metadata": {
        "colab": {
          "base_uri": "https://localhost:8080/"
        },
        "id": "oNYk8jCY-8YB",
        "outputId": "b42e04fc-f42a-4886-c606-38b99788018a"
      },
      "execution_count": 16,
      "outputs": [
        {
          "output_type": "execute_result",
          "data": {
            "text/plain": [
              "array([[5.7292266, 5.084854 , 4.858652 , 4.613833 , 2.2378907],\n",
              "       [5.9685326, 5.4879904, 5.1130815, 4.714781 , 4.025921 ],\n",
              "       [5.573825 , 4.476487 , 4.462555 , 4.070874 , 3.2475438],\n",
              "       [4.894192 , 4.883642 , 4.827503 , 4.6798654, 4.009323 ],\n",
              "       [5.704425 , 5.6030755, 5.4573894, 5.1000853, 4.4744415]],\n",
              "      dtype=float32)"
            ]
          },
          "metadata": {},
          "execution_count": 16
        }
      ]
    },
    {
      "cell_type": "code",
      "source": [
        "# Sorting prime_tensor secara descending\n",
        "tf.sort(prime_tensor, direction=\"DESCENDING\").numpy()"
      ],
      "metadata": {
        "colab": {
          "base_uri": "https://localhost:8080/"
        },
        "id": "hSURhH7i_Gor",
        "outputId": "ea2f2e13-ebb5-4bd5-f7e4-491243b6f828"
      },
      "execution_count": 17,
      "outputs": [
        {
          "output_type": "execute_result",
          "data": {
            "text/plain": [
              "array([[11.,  7.,  5.,  3.,  2.],\n",
              "       [29., 23., 19., 17., 13.],\n",
              "       [47., 43., 41., 37., 31.],\n",
              "       [71., 67., 61., 59., 53.],\n",
              "       [97., 89., 83., 79., 73.]], dtype=float32)"
            ]
          },
          "metadata": {},
          "execution_count": 17
        }
      ]
    }
  ]
}